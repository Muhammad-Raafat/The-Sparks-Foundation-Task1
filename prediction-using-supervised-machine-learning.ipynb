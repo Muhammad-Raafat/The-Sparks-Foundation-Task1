{
 "cells": [
  {
   "cell_type": "markdown",
   "id": "c4df6ebe",
   "metadata": {
    "papermill": {
     "duration": 0.011377,
     "end_time": "2022-02-04T04:06:43.561319",
     "exception": false,
     "start_time": "2022-02-04T04:06:43.549942",
     "status": "completed"
    },
    "tags": []
   },
   "source": [
    "## Author: Muhammad Raafat\n",
    "## Task 1 : Prediction using Supervised Machine Learning\n",
    "## GRIP @ The Sparks Foundation\n",
    "\n"
   ]
  },
  {
   "cell_type": "code",
   "execution_count": 1,
   "id": "13d9865d",
   "metadata": {
    "execution": {
     "iopub.execute_input": "2022-02-04T04:06:43.594105Z",
     "iopub.status.busy": "2022-02-04T04:06:43.593209Z",
     "iopub.status.idle": "2022-02-04T04:06:44.849345Z",
     "shell.execute_reply": "2022-02-04T04:06:44.848120Z",
     "shell.execute_reply.started": "2022-02-04T03:00:48.309440Z"
    },
    "papermill": {
     "duration": 1.27769,
     "end_time": "2022-02-04T04:06:44.849609",
     "exception": false,
     "start_time": "2022-02-04T04:06:43.571919",
     "status": "completed"
    },
    "tags": []
   },
   "outputs": [],
   "source": [
    "import numpy as np\n",
    "import pandas as pd\n",
    "from sklearn.model_selection import train_test_split \n",
    "from sklearn.linear_model import LinearRegression\n",
    "from sklearn import metrics  \n",
    "import matplotlib.pyplot as plt\n"
   ]
  },
  {
   "cell_type": "markdown",
   "id": "e9f51f89",
   "metadata": {
    "papermill": {
     "duration": 0.010917,
     "end_time": "2022-02-04T04:06:44.874743",
     "exception": false,
     "start_time": "2022-02-04T04:06:44.863826",
     "status": "completed"
    },
    "tags": []
   },
   "source": [
    "### Reading The Data"
   ]
  },
  {
   "cell_type": "code",
   "execution_count": 2,
   "id": "d31f6392",
   "metadata": {
    "execution": {
     "iopub.execute_input": "2022-02-04T04:06:44.899459Z",
     "iopub.status.busy": "2022-02-04T04:06:44.898709Z",
     "iopub.status.idle": "2022-02-04T04:06:45.482798Z",
     "shell.execute_reply": "2022-02-04T04:06:45.481689Z",
     "shell.execute_reply.started": "2022-02-04T03:00:53.588958Z"
    },
    "papermill": {
     "duration": 0.597504,
     "end_time": "2022-02-04T04:06:45.482974",
     "exception": false,
     "start_time": "2022-02-04T04:06:44.885470",
     "status": "completed"
    },
    "tags": []
   },
   "outputs": [],
   "source": [
    "data = pd.read_csv('https://raw.githubusercontent.com/AdiPersonalWorks/Random/master/student_scores%20-%20student_scores.csv')"
   ]
  },
  {
   "cell_type": "code",
   "execution_count": 3,
   "id": "03646c0b",
   "metadata": {
    "execution": {
     "iopub.execute_input": "2022-02-04T04:06:45.512575Z",
     "iopub.status.busy": "2022-02-04T04:06:45.511836Z",
     "iopub.status.idle": "2022-02-04T04:06:45.526334Z",
     "shell.execute_reply": "2022-02-04T04:06:45.525847Z",
     "shell.execute_reply.started": "2022-02-04T03:00:56.370486Z"
    },
    "papermill": {
     "duration": 0.033279,
     "end_time": "2022-02-04T04:06:45.526506",
     "exception": false,
     "start_time": "2022-02-04T04:06:45.493227",
     "status": "completed"
    },
    "tags": []
   },
   "outputs": [
    {
     "data": {
      "text/html": [
       "<div>\n",
       "<style scoped>\n",
       "    .dataframe tbody tr th:only-of-type {\n",
       "        vertical-align: middle;\n",
       "    }\n",
       "\n",
       "    .dataframe tbody tr th {\n",
       "        vertical-align: top;\n",
       "    }\n",
       "\n",
       "    .dataframe thead th {\n",
       "        text-align: right;\n",
       "    }\n",
       "</style>\n",
       "<table border=\"1\" class=\"dataframe\">\n",
       "  <thead>\n",
       "    <tr style=\"text-align: right;\">\n",
       "      <th></th>\n",
       "      <th>Hours</th>\n",
       "      <th>Scores</th>\n",
       "    </tr>\n",
       "  </thead>\n",
       "  <tbody>\n",
       "    <tr>\n",
       "      <th>0</th>\n",
       "      <td>2.5</td>\n",
       "      <td>21</td>\n",
       "    </tr>\n",
       "    <tr>\n",
       "      <th>1</th>\n",
       "      <td>5.1</td>\n",
       "      <td>47</td>\n",
       "    </tr>\n",
       "    <tr>\n",
       "      <th>2</th>\n",
       "      <td>3.2</td>\n",
       "      <td>27</td>\n",
       "    </tr>\n",
       "    <tr>\n",
       "      <th>3</th>\n",
       "      <td>8.5</td>\n",
       "      <td>75</td>\n",
       "    </tr>\n",
       "    <tr>\n",
       "      <th>4</th>\n",
       "      <td>3.5</td>\n",
       "      <td>30</td>\n",
       "    </tr>\n",
       "  </tbody>\n",
       "</table>\n",
       "</div>"
      ],
      "text/plain": [
       "   Hours  Scores\n",
       "0    2.5      21\n",
       "1    5.1      47\n",
       "2    3.2      27\n",
       "3    8.5      75\n",
       "4    3.5      30"
      ]
     },
     "execution_count": 3,
     "metadata": {},
     "output_type": "execute_result"
    }
   ],
   "source": [
    "data.head()"
   ]
  },
  {
   "cell_type": "code",
   "execution_count": 4,
   "id": "3cea3df7",
   "metadata": {
    "execution": {
     "iopub.execute_input": "2022-02-04T04:06:45.561470Z",
     "iopub.status.busy": "2022-02-04T04:06:45.560796Z",
     "iopub.status.idle": "2022-02-04T04:06:45.576033Z",
     "shell.execute_reply": "2022-02-04T04:06:45.576501Z",
     "shell.execute_reply.started": "2022-02-04T03:00:57.233770Z"
    },
    "papermill": {
     "duration": 0.039102,
     "end_time": "2022-02-04T04:06:45.576720",
     "exception": false,
     "start_time": "2022-02-04T04:06:45.537618",
     "status": "completed"
    },
    "tags": []
   },
   "outputs": [
    {
     "name": "stdout",
     "output_type": "stream",
     "text": [
      "Size of Data:  (25, 2)\n",
      "<class 'pandas.core.frame.DataFrame'>\n",
      "RangeIndex: 25 entries, 0 to 24\n",
      "Data columns (total 2 columns):\n",
      " #   Column  Non-Null Count  Dtype  \n",
      "---  ------  --------------  -----  \n",
      " 0   Hours   25 non-null     float64\n",
      " 1   Scores  25 non-null     int64  \n",
      "dtypes: float64(1), int64(1)\n",
      "memory usage: 528.0 bytes\n",
      "Data info None\n"
     ]
    }
   ],
   "source": [
    "print('Size of Data: ', data.shape)\n",
    "print('Data info' , data.info())"
   ]
  },
  {
   "cell_type": "markdown",
   "id": "79409998",
   "metadata": {
    "papermill": {
     "duration": 0.010338,
     "end_time": "2022-02-04T04:06:45.597850",
     "exception": false,
     "start_time": "2022-02-04T04:06:45.587512",
     "status": "completed"
    },
    "tags": []
   },
   "source": [
    "### Ploting The Data"
   ]
  },
  {
   "cell_type": "code",
   "execution_count": 5,
   "id": "f5762610",
   "metadata": {
    "execution": {
     "iopub.execute_input": "2022-02-04T04:06:45.624770Z",
     "iopub.status.busy": "2022-02-04T04:06:45.623990Z",
     "iopub.status.idle": "2022-02-04T04:06:45.891353Z",
     "shell.execute_reply": "2022-02-04T04:06:45.890815Z",
     "shell.execute_reply.started": "2022-02-04T03:01:00.217529Z"
    },
    "papermill": {
     "duration": 0.282912,
     "end_time": "2022-02-04T04:06:45.891521",
     "exception": false,
     "start_time": "2022-02-04T04:06:45.608609",
     "status": "completed"
    },
    "tags": []
   },
   "outputs": [
    {
     "data": {
      "image/png": "[encoded data removed]",
      "text/plain": [
       "<Figure size 432x288 with 1 Axes>"
      ]
     },
     "metadata": {
      "needs_background": "light"
     },
     "output_type": "display_data"
    }
   ],
   "source": [
    "data.plot(x='Hours', y='Scores', style='o')  \n",
    "plt.title('Hours vs Percentage')  \n",
    "plt.xlabel('Hours Studied')  \n",
    "plt.ylabel('Percentage Score')  \n",
    "plt.show()\n"
   ]
  },
  {
   "cell_type": "code",
   "execution_count": 6,
   "id": "76c5b06d",
   "metadata": {
    "execution": {
     "iopub.execute_input": "2022-02-04T04:06:45.923067Z",
     "iopub.status.busy": "2022-02-04T04:06:45.922265Z",
     "iopub.status.idle": "2022-02-04T04:06:45.924333Z",
     "shell.execute_reply": "2022-02-04T04:06:45.923858Z",
     "shell.execute_reply.started": "2022-02-04T03:01:02.054816Z"
    },
    "papermill": {
     "duration": 0.021488,
     "end_time": "2022-02-04T04:06:45.924503",
     "exception": false,
     "start_time": "2022-02-04T04:06:45.903015",
     "status": "completed"
    },
    "tags": []
   },
   "outputs": [],
   "source": [
    "X = data.drop(['Scores'] , axis = 1 )\n",
    "y = data['Scores']"
   ]
  },
  {
   "cell_type": "code",
   "execution_count": 7,
   "id": "b56cfde5",
   "metadata": {
    "execution": {
     "iopub.execute_input": "2022-02-04T04:06:45.953172Z",
     "iopub.status.busy": "2022-02-04T04:06:45.952598Z",
     "iopub.status.idle": "2022-02-04T04:06:45.974055Z",
     "shell.execute_reply": "2022-02-04T04:06:45.974612Z",
     "shell.execute_reply.started": "2022-02-04T03:01:03.723763Z"
    },
    "papermill": {
     "duration": 0.039026,
     "end_time": "2022-02-04T04:06:45.974787",
     "exception": false,
     "start_time": "2022-02-04T04:06:45.935761",
     "status": "completed"
    },
    "tags": []
   },
   "outputs": [
    {
     "data": {
      "text/plain": [
       "LinearRegression()"
      ]
     },
     "execution_count": 7,
     "metadata": {},
     "output_type": "execute_result"
    }
   ],
   "source": [
    "X_train, X_test, y_train, y_test = train_test_split(X, y, test_size=0.2, random_state=0) \n",
    "lg = LinearRegression()  \n",
    "lg.fit(X_train, y_train) \n"
   ]
  },
  {
   "cell_type": "markdown",
   "id": "9f2e7c3b",
   "metadata": {
    "papermill": {
     "duration": 0.010877,
     "end_time": "2022-02-04T04:06:45.997043",
     "exception": false,
     "start_time": "2022-02-04T04:06:45.986166",
     "status": "completed"
    },
    "tags": []
   },
   "source": [
    "### Ploting The Fit Line"
   ]
  },
  {
   "cell_type": "code",
   "execution_count": 8,
   "id": "9c0d51a7",
   "metadata": {
    "execution": {
     "iopub.execute_input": "2022-02-04T04:06:46.023007Z",
     "iopub.status.busy": "2022-02-04T04:06:46.022357Z",
     "iopub.status.idle": "2022-02-04T04:06:46.211211Z",
     "shell.execute_reply": "2022-02-04T04:06:46.211735Z",
     "shell.execute_reply.started": "2022-02-04T03:01:06.209138Z"
    },
    "papermill": {
     "duration": 0.203648,
     "end_time": "2022-02-04T04:06:46.211916",
     "exception": false,
     "start_time": "2022-02-04T04:06:46.008268",
     "status": "completed"
    },
    "tags": []
   },
   "outputs": [
    {
     "data": {
      "image/png": "[encoded data removed]",
      "text/plain": [
       "<Figure size 432x288 with 1 Axes>"
      ]
     },
     "metadata": {
      "needs_background": "light"
     },
     "output_type": "display_data"
    }
   ],
   "source": [
    "line = lg.coef_*X+lg.intercept_\n",
    "\n",
    "# Plotting for the test data\n",
    "plt.scatter(X, y)\n",
    "plt.plot(X, line,color='red');\n",
    "plt.show()\n"
   ]
  },
  {
   "cell_type": "code",
   "execution_count": 9,
   "id": "118b7360",
   "metadata": {
    "execution": {
     "iopub.execute_input": "2022-02-04T04:06:46.240085Z",
     "iopub.status.busy": "2022-02-04T04:06:46.239483Z",
     "iopub.status.idle": "2022-02-04T04:06:46.249455Z",
     "shell.execute_reply": "2022-02-04T04:06:46.249909Z",
     "shell.execute_reply.started": "2022-02-04T03:01:08.760229Z"
    },
    "papermill": {
     "duration": 0.025599,
     "end_time": "2022-02-04T04:06:46.250070",
     "exception": false,
     "start_time": "2022-02-04T04:06:46.224471",
     "status": "completed"
    },
    "tags": []
   },
   "outputs": [
    {
     "name": "stdout",
     "output_type": "stream",
     "text": [
      "Training Score: 0.9515510725211552\n",
      "Test Score: 0.9454906892105354\n"
     ]
    }
   ],
   "source": [
    "y_pred = lg.predict(X_test)\n",
    "print(\"Training Score:\",lg.score(X_train,y_train))\n",
    "print(\"Test Score:\",lg.score(X_test,y_test))\n"
   ]
  },
  {
   "cell_type": "code",
   "execution_count": 10,
   "id": "0cf62827",
   "metadata": {
    "execution": {
     "iopub.execute_input": "2022-02-04T04:06:46.285243Z",
     "iopub.status.busy": "2022-02-04T04:06:46.284629Z",
     "iopub.status.idle": "2022-02-04T04:06:46.286964Z",
     "shell.execute_reply": "2022-02-04T04:06:46.287400Z",
     "shell.execute_reply.started": "2022-02-04T03:01:09.884445Z"
    },
    "papermill": {
     "duration": 0.025323,
     "end_time": "2022-02-04T04:06:46.287579",
     "exception": false,
     "start_time": "2022-02-04T04:06:46.262256",
     "status": "completed"
    },
    "tags": []
   },
   "outputs": [
    {
     "data": {
      "text/html": [
       "<div>\n",
       "<style scoped>\n",
       "    .dataframe tbody tr th:only-of-type {\n",
       "        vertical-align: middle;\n",
       "    }\n",
       "\n",
       "    .dataframe tbody tr th {\n",
       "        vertical-align: top;\n",
       "    }\n",
       "\n",
       "    .dataframe thead th {\n",
       "        text-align: right;\n",
       "    }\n",
       "</style>\n",
       "<table border=\"1\" class=\"dataframe\">\n",
       "  <thead>\n",
       "    <tr style=\"text-align: right;\">\n",
       "      <th></th>\n",
       "      <th>Actual</th>\n",
       "      <th>Predicted</th>\n",
       "    </tr>\n",
       "  </thead>\n",
       "  <tbody>\n",
       "    <tr>\n",
       "      <th>5</th>\n",
       "      <td>20</td>\n",
       "      <td>16.884145</td>\n",
       "    </tr>\n",
       "    <tr>\n",
       "      <th>2</th>\n",
       "      <td>27</td>\n",
       "      <td>33.732261</td>\n",
       "    </tr>\n",
       "    <tr>\n",
       "      <th>19</th>\n",
       "      <td>69</td>\n",
       "      <td>75.357018</td>\n",
       "    </tr>\n",
       "    <tr>\n",
       "      <th>16</th>\n",
       "      <td>30</td>\n",
       "      <td>26.794801</td>\n",
       "    </tr>\n",
       "    <tr>\n",
       "      <th>11</th>\n",
       "      <td>62</td>\n",
       "      <td>60.491033</td>\n",
       "    </tr>\n",
       "  </tbody>\n",
       "</table>\n",
       "</div>"
      ],
      "text/plain": [
       "    Actual  Predicted\n",
       "5       20  16.884145\n",
       "2       27  33.732261\n",
       "19      69  75.357018\n",
       "16      30  26.794801\n",
       "11      62  60.491033"
      ]
     },
     "execution_count": 10,
     "metadata": {},
     "output_type": "execute_result"
    }
   ],
   "source": [
    "# Comparing Actual vs Predicted\n",
    "df = pd.DataFrame({'Actual': y_test, 'Predicted': y_pred}) \n",
    "df \n"
   ]
  },
  {
   "cell_type": "markdown",
   "id": "dec0b98c",
   "metadata": {
    "papermill": {
     "duration": 0.012471,
     "end_time": "2022-02-04T04:06:46.312580",
     "exception": false,
     "start_time": "2022-02-04T04:06:46.300109",
     "status": "completed"
    },
    "tags": []
   },
   "source": [
    "### Evaluation The Model"
   ]
  },
  {
   "cell_type": "code",
   "execution_count": 11,
   "id": "28bd90a6",
   "metadata": {
    "execution": {
     "iopub.execute_input": "2022-02-04T04:06:46.341695Z",
     "iopub.status.busy": "2022-02-04T04:06:46.341073Z",
     "iopub.status.idle": "2022-02-04T04:06:46.350612Z",
     "shell.execute_reply": "2022-02-04T04:06:46.350079Z",
     "shell.execute_reply.started": "2022-02-04T03:01:12.838941Z"
    },
    "papermill": {
     "duration": 0.025581,
     "end_time": "2022-02-04T04:06:46.350750",
     "exception": false,
     "start_time": "2022-02-04T04:06:46.325169",
     "status": "completed"
    },
    "tags": []
   },
   "outputs": [
    {
     "name": "stdout",
     "output_type": "stream",
     "text": [
      "Mean Absolute Error: 4.183859899002982\n",
      "Mean Squared Error: 21.598769307217456\n",
      "Root Mean Squared Error: 4.647447612100373\n",
      "R-2: 0.9454906892105354\n"
     ]
    }
   ],
   "source": [
    "print('Mean Absolute Error:',metrics.mean_absolute_error(y_test, y_pred)) \n",
    "print('Mean Squared Error:', metrics.mean_squared_error(y_test, y_pred))\n",
    "print('Root Mean Squared Error:', np.sqrt(metrics.mean_squared_error(y_test, y_pred)))\n",
    "print('R-2:', metrics.r2_score(y_test, y_pred))\n"
   ]
  },
  {
   "cell_type": "code",
   "execution_count": 12,
   "id": "966682b4",
   "metadata": {
    "execution": {
     "iopub.execute_input": "2022-02-04T04:06:46.384067Z",
     "iopub.status.busy": "2022-02-04T04:06:46.383454Z",
     "iopub.status.idle": "2022-02-04T04:06:46.385691Z",
     "shell.execute_reply": "2022-02-04T04:06:46.386122Z",
     "shell.execute_reply.started": "2022-02-04T03:01:14.308236Z"
    },
    "papermill": {
     "duration": 0.022559,
     "end_time": "2022-02-04T04:06:46.386278",
     "exception": false,
     "start_time": "2022-02-04T04:06:46.363719",
     "status": "completed"
    },
    "tags": []
   },
   "outputs": [
    {
     "name": "stdout",
     "output_type": "stream",
     "text": [
      "No of Hours = 9.25\n",
      "Predicted Score = 93.69173248737539\n"
     ]
    }
   ],
   "source": [
    "# Testing the model with our own data\n",
    "hours = 9.25\n",
    "test = np.array([hours])\n",
    "test = test.reshape(-1, 1)\n",
    "own_pred = lg.predict(test)\n",
    "print(\"No of Hours = {}\".format(hours))\n",
    "print(\"Predicted Score = {}\".format(own_pred[0]))\n"
   ]
  }
 ],
 "metadata": {
  "kernelspec": {
   "display_name": "Python 3",
   "language": "python",
   "name": "python3"
  },
  "language_info": {
   "codemirror_mode": {
    "name": "ipython",
    "version": 3
   },
   "file_extension": ".py",
   "mimetype": "text/x-python",
   "name": "python",
   "nbconvert_exporter": "python",
   "pygments_lexer": "ipython3",
   "version": "3.7.12"
  },
  "papermill": {
   "default_parameters": {},
   "duration": 12.6326,
   "end_time": "2022-02-04T04:06:47.110644",
   "environment_variables": {},
   "exception": null,
   "input_path": "__notebook__.ipynb",
   "output_path": "__notebook__.ipynb",
   "parameters": {},
   "start_time": "2022-02-04T04:06:34.478044",
   "version": "2.3.3"
  }
 },
 "nbformat": 4,
 "nbformat_minor": 5
}
